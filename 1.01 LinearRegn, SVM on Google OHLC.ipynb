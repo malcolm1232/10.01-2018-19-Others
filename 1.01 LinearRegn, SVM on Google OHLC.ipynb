{
 "cells": [
  {
   "cell_type": "code",
   "execution_count": 1,
   "metadata": {},
   "outputs": [
    {
     "name": "stdout",
     "output_type": "stream",
     "text": [
      "[1048.22540886 1062.73366837 1076.31956948 1071.15753218 1064.81917099\n",
      " 1062.26187324 1060.90024834 1058.00072152 1051.75560822 1047.46441611\n",
      " 1045.43307484 1063.83204737 1081.58690818 1086.16495391 1100.73873388\n",
      " 1104.58819918 1103.46743464 1101.02895354 1102.83166088 1120.26082697\n",
      " 1119.00536897 1129.65473333 1126.19078749 1133.79229486 1152.87366889\n",
      " 1165.27694249 1159.3164317  1171.36155667 1176.9883267  1174.36453596\n",
      " 1165.46311877 1171.31416726 1169.73900509 1107.43464318 1054.03181779] 0.9808118672432518 35\n",
      "            Adj. Close    HL_PCT  PCT_CHNG  Adj. Volume      label  Forecast\n",
      "Date                                                                        \n",
      "2004-08-19   50.322842  3.712563  0.324968   44659000.0  69.078238       NaN\n",
      "2004-08-20   54.322689  0.710922  7.227007   22834300.0  67.839414       NaN\n",
      "2004-08-23   54.869377  3.729433 -1.227880   18256100.0  68.912727       NaN\n",
      "2004-08-24   52.597363  6.417469 -5.726357   15247300.0  70.668146       NaN\n",
      "2004-08-25   53.164113  1.886792  1.183658    9188600.0  71.219849       NaN\n"
     ]
    },
    {
     "data": {
      "text/plain": [
       "<Figure size 640x480 with 1 Axes>"
      ]
     },
     "metadata": {},
     "output_type": "display_data"
    }
   ],
   "source": [
    "from sklearn import preprocessing , svm, model_selection\n",
    "from sklearn.linear_model import LinearRegression\n",
    "from sklearn.model_selection import cross_val_score\n",
    "import pandas as pd\n",
    "import quandl, datetime\n",
    "import math\n",
    "import numpy as np\n",
    "from sklearn import preprocessing \n",
    "import matplotlib.pyplot as plt\n",
    "from matplotlib import style \n",
    "import pickle ##LINE ADDED\n",
    "style.use('ggplot')\n",
    "\n",
    "df = quandl.get('WIKI/GOOGL')\n",
    "#print(df.head(1)) \n",
    "\n",
    "df = df.loc[:, [\"Adj. Open\", \"Adj. High\",\"Adj. Low\",\"Adj. Close\", \"Adj. Volume\"]]\n",
    "#df.head()\n",
    "\n",
    "df['HL_PCT'] = (df['Adj. High'] - df['Adj. Close']) / df['Adj. Close'] * 100.0\n",
    "df['PCT_CHNG'] = (df['Adj. Close'] - df['Adj. Open']) / df['Adj. Open'] * 100.0\n",
    "#df.head(3)\n",
    "\n",
    "df = df[['Adj. Close', 'HL_PCT', 'PCT_CHNG', 'Adj. Volume']]\n",
    "forecast_col = 'Adj. Close'\n",
    "df.fillna(-99999, inplace = True)\n",
    "\n",
    "forecast_out = int(math.ceil(0.01*len(df)))\n",
    "\n",
    "df['label'] = df[forecast_col].shift(-forecast_out)\n",
    "\n",
    "\n",
    "x = np.array(df.drop(['label'],1))\n",
    "x= preprocessing.scale(x)\n",
    "x=x[:-forecast_out]\n",
    "x_lately = x[-forecast_out:]\n",
    "\n",
    "df.dropna(inplace = True)\n",
    "x = preprocessing.scale(x)\n",
    "y = np.array(df['label'])\n",
    "\n",
    "\n",
    "##print(len(x), len(y)) \n",
    "x_train, x_test, y_train, y_test = model_selection.train_test_split(x, y, test_size = 0.2)\n",
    "\n",
    "clf = LinearRegression()\n",
    "clf.fit(x_train, y_train)\n",
    "with open('linearregression.pickle', 'wb') as f: \n",
    "   pickle.dump(clf,f)\n",
    "\n",
    "pickle_in = open('linearregression.pickle', 'rb')\n",
    "clf = pickle.load(pickle_in)\n",
    "\n",
    "accuracy = clf.score(x_test,y_test)\n",
    "#print(accuracy)\n",
    "forecast_set = clf.predict(x_lately)\n",
    "\n",
    "print(forecast_set, accuracy, forecast_out)\n",
    "\n",
    "import matplotlib.pyplot as plt\n",
    "from matplotlib import style \n",
    "style.use('ggplot')\n",
    "import datetime\n",
    "\n",
    "df['Forecast'] = np.nan\n",
    "last_date = df.iloc[-1].name\n",
    "last_unix = last_date.timestamp()\n",
    "one_day = 86400\n",
    "next_unix = last_unix + one_day\n",
    "\n",
    "for i in forecast_set:\n",
    "    next_date = datetime.datetime.fromtimestamp(next_unix)\n",
    "    next_unix += one_day \n",
    "    df.loc[next_date] = [np.nan for _ in range(len(df.columns)-1)] + [i]\n",
    "\n",
    "print(df.head())    \n",
    "df['Adj. Close'].plot()\n",
    "df['Forecast'].plot()\n",
    "plt.legend(loc = 4)\n",
    "plt.xlabel('Date')\n",
    "plt.ylabel('Price')\n",
    "plt.show()"
   ]
  },
  {
   "cell_type": "code",
   "execution_count": null,
   "metadata": {},
   "outputs": [],
   "source": []
  }
 ],
 "metadata": {
  "kernelspec": {
   "display_name": "Python 3",
   "language": "python",
   "name": "python3"
  },
  "language_info": {
   "codemirror_mode": {
    "name": "ipython",
    "version": 3
   },
   "file_extension": ".py",
   "mimetype": "text/x-python",
   "name": "python",
   "nbconvert_exporter": "python",
   "pygments_lexer": "ipython3",
   "version": "3.6.8"
  }
 },
 "nbformat": 4,
 "nbformat_minor": 2
}
