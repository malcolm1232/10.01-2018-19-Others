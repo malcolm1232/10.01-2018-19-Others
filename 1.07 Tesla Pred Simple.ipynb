{
 "cells": [
  {
   "cell_type": "code",
   "execution_count": 11,
   "metadata": {},
   "outputs": [
    {
     "name": "stdout",
     "output_type": "stream",
     "text": [
      "[227.63384726 234.34828165 229.64283357 230.23676685 227.85460822\n",
      " 228.14646518 224.2667837  222.38147739 224.00946127 215.35681789\n",
      " 216.16253265 218.62558688 231.7124509  230.87207404] 0.9740806116569981 14\n",
      "                     Adj. Close  HL_PCT  PCT_CHNG  Adj. Volume  label  \\\n",
      "Date                                                                    \n",
      "2015-12-27 08:00:00         NaN     NaN       NaN          NaN    NaN   \n",
      "2015-12-28 08:00:00         NaN     NaN       NaN          NaN    NaN   \n",
      "2015-12-29 08:00:00         NaN     NaN       NaN          NaN    NaN   \n",
      "2015-12-30 08:00:00         NaN     NaN       NaN          NaN    NaN   \n",
      "2015-12-31 08:00:00         NaN     NaN       NaN          NaN    NaN   \n",
      "\n",
      "                       Forecast  \n",
      "Date                             \n",
      "2015-12-27 08:00:00  215.356818  \n",
      "2015-12-28 08:00:00  216.162533  \n",
      "2015-12-29 08:00:00  218.625587  \n",
      "2015-12-30 08:00:00  231.712451  \n",
      "2015-12-31 08:00:00  230.872074  \n"
     ]
    },
    {
     "data": {
      "image/png": "[encoded data removed]",
      "text/plain": [
       "<Figure size 432x288 with 1 Axes>"
      ]
     },
     "metadata": {},
     "output_type": "display_data"
    }
   ],
   "source": [
    "from sklearn import preprocessing , svm, model_selection\n",
    "from sklearn.linear_model import LinearRegression\n",
    "from sklearn.model_selection import cross_val_score\n",
    "import pandas as pd\n",
    "import quandl, datetime\n",
    "import math\n",
    "import numpy as np\n",
    "from sklearn import preprocessing \n",
    "import matplotlib.pyplot as plt\n",
    "from matplotlib import style \n",
    "style.use('ggplot')\n",
    "\n",
    "df = quandl.get('WIKI/tsla')\n",
    "#print(df.head(1)) \n",
    "# Dropping Of Column(Highest point before crash = 31 Dec 15)\n",
    "\n",
    "df.drop(df.index[-556:],axis=0, inplace=True)\n",
    "\n",
    "df = df.loc[:, [\"Adj. Open\", \"Adj. High\",\"Adj. Low\",\"Adj. Close\", \"Adj. Volume\"]]\n",
    "#df.head()\n",
    "\n",
    "df['HL_PCT'] = (df['Adj. High'] - df['Adj. Close']) / df['Adj. Close'] * 100.0\n",
    "df['PCT_CHNG'] = (df['Adj. Close'] - df['Adj. Open']) / df['Adj. Open'] * 100.0\n",
    "#df.head(3)\n",
    "\n",
    "df = df[['Adj. Close', 'HL_PCT', 'PCT_CHNG', 'Adj. Volume']]\n",
    "forecast_col = 'Adj. Close'\n",
    "df.fillna(-99999, inplace = True)\n",
    "\n",
    "forecast_out = int(math.ceil(0.01*len(df)))\n",
    "\n",
    "df['label'] = df[forecast_col].shift(-forecast_out)\n",
    "\n",
    "\n",
    "x = np.array(df.drop(['label'],1))\n",
    "x= preprocessing.scale(x)\n",
    "x=x[:-forecast_out]\n",
    "x_lately = x[-forecast_out:]\n",
    "\n",
    "df.dropna(inplace = True)\n",
    "x = preprocessing.scale(x)\n",
    "y = np.array(df['label'])\n",
    "y = np.array(df['label'])\n",
    "\n",
    "\n",
    "x_train, x_test, y_train, y_test = model_selection.train_test_split(x, y, test_size = 0.2)\n",
    "\n",
    "##clf = svm.SVR\n",
    "clf = LinearRegression()\n",
    "clf.fit(x_train, y_train)\n",
    "accuracy = clf.score(x_test,y_test)\n",
    "#print(accuracy)\n",
    "forecast_set = clf.predict(x_lately)\n",
    "\n",
    "print(forecast_set, accuracy, forecast_out)\n",
    "\n",
    "import matplotlib.pyplot as plt\n",
    "from matplotlib import style \n",
    "style.use('ggplot')\n",
    "import datetime\n",
    "\n",
    "df['Forecast'] = np.nan\n",
    "last_date = df.iloc[-1].name\n",
    "last_unix = last_date.timestamp()\n",
    "one_day = 86400\n",
    "next_unix = last_unix + one_day\n",
    "\n",
    "for i in forecast_set:\n",
    "    next_date = datetime.datetime.fromtimestamp(next_unix)\n",
    "    next_unix += one_day \n",
    "    df.loc[next_date] = [np.nan for _ in range(len(df.columns)-1)] + [i]\n",
    "\n",
    "print(df.tail())    \n",
    "    \n",
    "df['Adj. Close'].plot()\n",
    "df['Forecast'].plot()\n",
    "plt.legend(loc = 4)\n",
    "plt.xlabel('Date')\n",
    "plt.ylabel('Price')\n",
    "plt.show()"
   ]
  }
 ],
 "metadata": {
  "kernelspec": {
   "display_name": "Python 3",
   "language": "python",
   "name": "python3"
  },
  "language_info": {
   "codemirror_mode": {
    "name": "ipython",
    "version": 3
   },
   "file_extension": ".py",
   "mimetype": "text/x-python",
   "name": "python",
   "nbconvert_exporter": "python",
   "pygments_lexer": "ipython3",
   "version": "3.6.8"
  }
 },
 "nbformat": 4,
 "nbformat_minor": 2
}
