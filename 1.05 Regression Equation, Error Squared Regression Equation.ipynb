{
 "cells": [
  {
   "cell_type": "code",
   "execution_count": 12,
   "metadata": {},
   "outputs": [
    {
     "name": "stdout",
     "output_type": "stream",
     "text": [
      "(0.42857142857142866, 4.0)\n",
      "0.42857142857142866 4.0\n",
      "(0.42857142857142866, 4.0)\n",
      "0.42857142857142866 4.0\n"
     ]
    },
    {
     "data": {
      "image/png": "[encoded data removed]",
      "text/plain": [
       "<Figure size 432x288 with 1 Axes>"
      ]
     },
     "metadata": {},
     "output_type": "display_data"
    }
   ],
   "source": [
    "#Regression Equation\n",
    "import numpy as np\n",
    "from statistics import mean\n",
    "import matplotlib.pyplot as plt\n",
    "from matplotlib import style\n",
    "style.use('fivethirtyeight')\n",
    "\n",
    "xs = np.array([1,2,3,4,5,6], dtype = np.float64)\n",
    "ys = np.array([5,4,6,5,6,7], dtype = np.float64)\n",
    "\n",
    "def best_fit_and_slope_and_intercept(xs,ys):\n",
    "    m = (((mean(xs) * mean(ys)) - mean(xs*ys)) /\n",
    "         ((mean(xs)*mean(xs)) - mean(xs*xs)))\n",
    "    b = mean(ys) - m * mean(xs) \n",
    "    return m,b\n",
    "m,b = best_fit_and_slope_and_intercept(xs,ys)\n",
    "regression_line = [(m*x) + b for x in xs]\n",
    "\n",
    "predict_x = 8\n",
    "predict_y = (m * predict_x + b)\n",
    "y = m *predict_x + b\n",
    "print(best_fit_and_slope_and_intercept(xs,ys))\n",
    "print(m,b)\n",
    "plt.scatter(xs,ys)\n",
    "plt.scatter(predict_x, predict_y, color = 'g')\n",
    "plt.plot(xs, regression_line)\n",
    "import numpy as np\n",
    "from statistics import mean\n",
    "import matplotlib.pyplot as plt\n",
    "from matplotlib import style\n",
    "style.use('fivethirtyeight')\n",
    "\n",
    "xs = np.array([1,2,3,4,5,6], dtype = np.float64)\n",
    "ys = np.array([5,4,6,5,6,7], dtype = np.float64)\n",
    "\n",
    "def best_fit_and_slope_and_intercept(xs,ys):\n",
    "    m = (((mean(xs) * mean(ys)) - mean(xs*ys)) /\n",
    "         ((mean(xs)*mean(xs)) - mean(xs*xs)))\n",
    "    b = mean(ys) - m * mean(xs) \n",
    "    return m,b\n",
    "m,b = best_fit_and_slope_and_intercept(xs,ys)\n",
    "regression_line = [(m*x) + b for x in xs]\n",
    "\n",
    "predict_x = 8\n",
    "predict_y = (m * predict_x + b)\n",
    "y = m *predict_x + b\n",
    "print(best_fit_and_slope_and_intercept(xs,ys))\n",
    "print(m,b)\n",
    "plt.scatter(xs,ys)\n",
    "plt.scatter(predict_x, predict_y, color = 'g')\n",
    "plt.plot(xs, regression_line)\n",
    "plt.show()"
   ]
  },
  {
   "cell_type": "code",
   "execution_count": 11,
   "metadata": {},
   "outputs": [
    {
     "name": "stdout",
     "output_type": "stream",
     "text": [
      "0.5844155844155845\n",
      "(0.42857142857142866, 4.0)\n",
      "0.42857142857142866 4.0\n",
      "(0.42857142857142866, 4.0)\n",
      "0.42857142857142866 4.0\n"
     ]
    },
    {
     "data": {
      "image/png": "[encoded data removed]",
      "text/plain": [
       "<Figure size 432x288 with 1 Axes>"
      ]
     },
     "metadata": {},
     "output_type": "display_data"
    }
   ],
   "source": [
    "#Error Squared Regression Equation\n",
    "import numpy as np\n",
    "from statistics import mean\n",
    "import matplotlib.pyplot as plt\n",
    "from matplotlib import style\n",
    "style.use('fivethirtyeight')\n",
    "\n",
    "xs = np.array([1,2,3,4,5,6], dtype = np.float64)\n",
    "ys = np.array([5,4,6,5,6,7], dtype = np.float64)\n",
    "\n",
    "def best_fit_and_slope_and_intercept(xs,ys):\n",
    "    m = (((mean(xs) * mean(ys)) - mean(xs*ys)) /\n",
    "         ((mean(xs)*mean(xs)) - mean(xs*xs)))\n",
    "    b = mean(ys) - m * mean(xs) \n",
    "    return m,b\n",
    "\n",
    "def squared_error(ys_orig, ys_line):\n",
    "    return sum((ys_line - ys_orig)**2)\n",
    "\n",
    "def coefficient_of_determination(ys_orig, ys_line):\n",
    "    y_mean_line = [mean(ys_orig) for y in ys_orig]\n",
    "    squared_error_regr = squared_error(ys_orig, ys_line)\n",
    "    squared_error_y_mean = squared_error(ys_orig, y_mean_line)  \n",
    "    return 1 - (squared_error_regr / squared_error_y_mean)\n",
    "\n",
    "m,b = best_fit_and_slope_and_intercept(xs,ys)\n",
    "\n",
    "regression_line = [(m*x) + b for x in xs]\n",
    "    \n",
    "predict_x = 8\n",
    "predict_y = (m * predict_x + b)\n",
    "\n",
    "r_squared = coefficient_of_determination(ys, regression_line)\n",
    "print(r_squared)\n",
    "\n",
    "y = m *predict_x + b\n",
    "print(best_fit_and_slope_and_intercept(xs,ys))\n",
    "print(m,b)\n",
    "plt.scatter(xs,ys)\n",
    "plt.scatter(predict_x, predict_y, color = 'g')\n",
    "plt.plot(xs, regression_line)\n",
    "import numpy as np\n",
    "from statistics import mean\n",
    "import matplotlib.pyplot as plt\n",
    "from matplotlib import style\n",
    "style.use('fivethirtyeight')\n",
    "\n",
    "xs = np.array([1,2,3,4,5,6], dtype = np.float64)\n",
    "ys = np.array([5,4,6,5,6,7], dtype = np.float64)\n",
    "\n",
    "def best_fit_and_slope_and_intercept(xs,ys):\n",
    "    m = (((mean(xs) * mean(ys)) - mean(xs*ys)) /\n",
    "         ((mean(xs)*mean(xs)) - mean(xs*xs)))\n",
    "    b = mean(ys) - m * mean(xs) \n",
    "    return m,b\n",
    "m,b = best_fit_and_slope_and_intercept(xs,ys)\n",
    "regression_line = [(m*x) + b for x in xs]\n",
    "\n",
    "predict_x = 8\n",
    "predict_y = (m * predict_x + b)\n",
    "y = m *predict_x + b\n",
    "print(best_fit_and_slope_and_intercept(xs,ys))\n",
    "print(m,b)\n",
    "plt.scatter(xs,ys)\n",
    "plt.scatter(predict_x, predict_y, color = 'g')\n",
    "plt.plot(xs, regression_line)\n",
    "plt.show()\n"
   ]
  },
  {
   "cell_type": "code",
   "execution_count": null,
   "metadata": {},
   "outputs": [],
   "source": []
  },
  {
   "cell_type": "code",
   "execution_count": null,
   "metadata": {},
   "outputs": [],
   "source": []
  }
 ],
 "metadata": {
  "kernelspec": {
   "display_name": "Python 3",
   "language": "python",
   "name": "python3"
  },
  "language_info": {
   "codemirror_mode": {
    "name": "ipython",
    "version": 3
   },
   "file_extension": ".py",
   "mimetype": "text/x-python",
   "name": "python",
   "nbconvert_exporter": "python",
   "pygments_lexer": "ipython3",
   "version": "3.6.8"
  }
 },
 "nbformat": 4,
 "nbformat_minor": 2
}
