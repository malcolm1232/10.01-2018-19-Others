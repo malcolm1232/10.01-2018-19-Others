{
 "cells": [
  {
   "cell_type": "code",
   "execution_count": 2,
   "metadata": {},
   "outputs": [
    {
     "name": "stdout",
     "output_type": "stream",
     "text": [
      "0.9571428571428572\n",
      "['perfect boobs']\n"
     ]
    },
    {
     "name": "stderr",
     "output_type": "stream",
     "text": [
      "c:\\users\\malco\\appdata\\local\\programs\\python\\python36\\lib\\site-packages\\sklearn\\svm\\base.py:193: FutureWarning: The default value of gamma will change from 'auto' to 'scale' in version 0.22 to account better for unscaled features. Set gamma explicitly to 'auto' or 'scale' to avoid this warning.\n",
      "  \"avoid this warning.\", FutureWarning)\n"
     ]
    }
   ],
   "source": [
    "import pandas as pd\n",
    "import numpy as np\n",
    "from sklearn import preprocessing, model_selection, neighbors, svm\n",
    "\n",
    "#open file\n",
    "col_names = ['id', 'Clump Thickness', 'uniformity of Cell Size', 'Uniformity of Cell Shape', 'Marginal Adhesion', 'Single Epithelial Cell Size' , 'Bare Nuclei', 'Bland Chromatin', 'Normal Nucleoli', 'Mitoses','class']\n",
    "df = pd.read_csv('C:/Users/malco/Desktop/aaaPython/Datasets/breast-cancer-wisconsin.data.txt', names = col_names)\n",
    "\n",
    "#Cleaning Data\n",
    "df.drop('id', 1, inplace = True)\n",
    "df.replace('?', -99999, inplace = True)\n",
    "df['class'].replace(2, 'perfect boobs', inplace = True)\n",
    "df['class'].replace(4, 'yo boobs are cancerous bitch', inplace = True)\n",
    "\n",
    "#Identifying ur Features and labels\n",
    "X = np.array(df.drop(['class'], 1))\n",
    "Y = np.array(df['class'])\n",
    "\n",
    "x_train, x_test, y_train, y_test = model_selection.train_test_split(X, Y, test_size = 0.2)\n",
    "\n",
    "clf = svm.SVC()\n",
    "clf.fit(x_train, y_train)\n",
    "\n",
    "accuracy = clf.score(x_test, y_test)\n",
    "print(accuracy)\n",
    "\n",
    "Malcolm_Breast_Sample = np.array([1,1,1,3,4,5,1,1,1])\n",
    "Malcolm_Breast_Sample = Malcolm_Breast_Sample.reshape(1, -1)\n",
    "sample_prediction = clf.predict(Malcolm_Breast_Sample)\n",
    "\n",
    "print(sample_prediction)\n"
   ]
  },
  {
   "cell_type": "code",
   "execution_count": null,
   "metadata": {},
   "outputs": [],
   "source": []
  }
 ],
 "metadata": {
  "kernelspec": {
   "display_name": "Python 3",
   "language": "python",
   "name": "python3"
  },
  "language_info": {
   "codemirror_mode": {
    "name": "ipython",
    "version": 3
   },
   "file_extension": ".py",
   "mimetype": "text/x-python",
   "name": "python",
   "nbconvert_exporter": "python",
   "pygments_lexer": "ipython3",
   "version": "3.6.8"
  }
 },
 "nbformat": 4,
 "nbformat_minor": 2
}
