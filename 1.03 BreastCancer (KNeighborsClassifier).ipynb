{
 "cells": [
  {
   "cell_type": "code",
   "execution_count": 4,
   "metadata": {},
   "outputs": [
    {
     "name": "stdout",
     "output_type": "stream",
     "text": [
      "0.9571428571428572\n",
      "[2 2]\n"
     ]
    }
   ],
   "source": [
    "import numpy as np\n",
    "from sklearn import preprocessing, neighbors, model_selection\n",
    "import pandas as pd\n",
    "from sklearn.model_selection import cross_val_score\n",
    "\n",
    "header = ['id', 'Clump_Thickness', 'Uniformity_of_cell_size', 'Uniformity_of_cell_shape',\n",
    "          'Marginal_Adhession', 'Single_Epithelial_cell_size', 'Bare_nuclei', 'Bland_chromatin',\n",
    "          'Normal_nucleoli', 'mitoses','class']\n",
    "df = pd.read_csv('C:/Users/malco/Desktop/aaaPython/Datasets/breast-cancer-wisconsin.data.txt',\n",
    "                 names = header)\n",
    "df.drop('id', 1, inplace= True)\n",
    "df.replace('?', -99999, inplace = True)\n",
    "\n",
    "X = np.array(df.drop(['class'],1 ))\n",
    "y = np.array(df['class'])\n",
    "\n",
    "x_train, x_test, y_train, y_test= model_selection.train_test_split(X, y, test_size = 0.2)\n",
    "\n",
    "clf = neighbors.KNeighborsClassifier()\n",
    "clf.fit(x_train, y_train)\n",
    "\n",
    "accuracy = clf.score(x_test, y_test)\n",
    "print(accuracy)\n",
    "\n",
    "example_measures = np.array([[4,2,1,1,1,2,3,2,1], [4,2,1,12,2,2,3,2,1]])\n",
    "example_measures = example_measures.reshape(2, -1)\n",
    "\n",
    "prediction = clf.predict(example_measures)\n",
    "print(prediction)"
   ]
  },
  {
   "cell_type": "code",
   "execution_count": null,
   "metadata": {},
   "outputs": [],
   "source": []
  },
  {
   "cell_type": "code",
   "execution_count": null,
   "metadata": {},
   "outputs": [],
   "source": []
  },
  {
   "cell_type": "code",
   "execution_count": null,
   "metadata": {},
   "outputs": [],
   "source": []
  }
 ],
 "metadata": {
  "kernelspec": {
   "display_name": "Python 3",
   "language": "python",
   "name": "python3"
  },
  "language_info": {
   "codemirror_mode": {
    "name": "ipython",
    "version": 3
   },
   "file_extension": ".py",
   "mimetype": "text/x-python",
   "name": "python",
   "nbconvert_exporter": "python",
   "pygments_lexer": "ipython3",
   "version": "3.6.8"
  }
 },
 "nbformat": 4,
 "nbformat_minor": 2
}
